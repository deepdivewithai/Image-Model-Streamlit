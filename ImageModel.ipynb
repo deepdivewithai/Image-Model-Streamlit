{
  "cells": [
    {
      "cell_type": "code",
      "execution_count": null,
      "metadata": {},
      "outputs": [],
      "source": [
        "import warnings\n",
        "warnings.filterwarnings('ignore')"
      ]
    },
    {
      "cell_type": "code",
      "execution_count": null,
      "metadata": {
        "colab": {
          "base_uri": "https://localhost:8080/"
        },
        "collapsed": true,
        "id": "aYg0HkEEavA6",
        "outputId": "6e65b011-5f57-4dc5-ed33-8c054b891657"
      },
      "outputs": [],
      "source": [
        "%load_ext autotime"
      ]
    },
    {
      "cell_type": "code",
      "execution_count": null,
      "metadata": {
        "colab": {
          "base_uri": "https://localhost:8080/"
        },
        "id": "lycsEhNBe_bp",
        "outputId": "9d2a1acf-99b9-4205-c386-f0af79648e1e"
      },
      "outputs": [],
      "source": [
        "!rmdir /s /q images"
      ]
    },
    {
      "cell_type": "code",
      "execution_count": null,
      "metadata": {
        "colab": {
          "base_uri": "https://localhost:8080/"
        },
        "id": "OlGxiIVGZJ5B",
        "outputId": "c72620eb-1eb2-4eb2-da4b-f4cc4bae775f"
      },
      "outputs": [],
      "source": [
        "!mkdir images"
      ]
    },
    {
      "cell_type": "code",
      "execution_count": null,
      "metadata": {
        "colab": {
          "base_uri": "https://localhost:8080/"
        },
        "collapsed": true,
        "id": "KbQ66EhyZhYB",
        "outputId": "ab1f6493-8657-4923-92c1-7be9603affa6"
      },
      "outputs": [],
      "source": [
        "CATEGORIES = ['sunflower', 'rugby ball leather', 'ice cream cone']"
      ]
    },
    {
      "cell_type": "code",
      "execution_count": null,
      "metadata": {
        "colab": {
          "base_uri": "https://localhost:8080/"
        },
        "collapsed": true,
        "id": "zAd3PwXtZNZm",
        "outputId": "7f29dfb2-9131-4d71-951a-970832b959da"
      },
      "outputs": [],
      "source": [
        "from bing_image_downloader import downloader\n",
        "\n",
        "for category in CATEGORIES:\n",
        "  downloader.download(category, limit=30, output_dir='images',\n",
        "                    adult_filter_off=True, verbose=False)"
      ]
    },
    {
      "cell_type": "code",
      "execution_count": null,
      "metadata": {
        "colab": {
          "base_uri": "https://localhost:8080/"
        },
        "collapsed": true,
        "id": "p-CV3f3tZ42V",
        "outputId": "b1b022f7-167e-4c6e-882a-c707d0d1c3df"
      },
      "outputs": [],
      "source": [
        "import os\n",
        "import matplotlib.pyplot as plt\n",
        "import seaborn as sns\n",
        "import numpy as np\n",
        "import cv2\n",
        "\n",
        "target = []\n",
        "images = []\n",
        "flat_data = []\n",
        "\n",
        "DATADIR = \"images\"\n",
        "\n",
        "for category in CATEGORIES:\n",
        "    class_num = CATEGORIES.index(category)  # Label encoding the values\n",
        "    path = os.path.join(DATADIR, category)  # Create path to use all the images\n",
        "\n",
        "    for img in os.listdir(path):\n",
        "        img_array = cv2.imread(os.path.join(path, img))\n",
        "        img_array = cv2.cvtColor(img_array, cv2.COLOR_BGR2RGB)  # OpenCV loads images in BGR format, convert to RGB\n",
        "        # print(img_array.shape)\n",
        "        # plt.imshow(img_array)\n",
        "        img_resized = cv2.resize(img_array, (150, 150))  # Normalizes the value from 0 to 1\n",
        "        flat_data.append(img_resized.flatten())\n",
        "        images.append(img_resized)\n",
        "        target.append(class_num)\n",
        "\n",
        "flat_data = np.array(flat_data)\n",
        "target = np.array(target)\n",
        "images = np.array(images)"
      ]
    },
    {
      "cell_type": "code",
      "execution_count": null,
      "metadata": {
        "colab": {
          "base_uri": "https://localhost:8080/"
        },
        "id": "kh0q-fNlofIl",
        "outputId": "18a7d1a5-9a33-4f34-8dbb-7ee618a86422"
      },
      "outputs": [],
      "source": [
        "len(flat_data[0])"
      ]
    },
    {
      "cell_type": "code",
      "execution_count": null,
      "metadata": {
        "colab": {
          "base_uri": "https://localhost:8080/",
          "height": 693
        },
        "id": "paWf2iHts9-D",
        "outputId": "98c700b9-d9ec-4c77-b834-016b2ee787bb"
      },
      "outputs": [],
      "source": [
        "import seaborn as sns\n",
        "\n",
        "unique,counts = np.unique(target,return_counts=True)\n",
        "\n",
        "plt.figure(figsize=(9,8))\n",
        "ax = sns.barplot(x=CATEGORIES, y=counts, linewidth=2.5, edgecolor=\"0.2\")\n",
        "\n",
        "for i, count in enumerate(counts):\n",
        "    ax.text(i, count + 0.1, str(count), ha='center', va='bottom')\n",
        "plt.show()"
      ]
    },
    {
      "cell_type": "code",
      "execution_count": null,
      "metadata": {
        "colab": {
          "base_uri": "https://localhost:8080/"
        },
        "id": "4mRQ0y0qtTgM",
        "outputId": "165cf68c-04d8-46fe-e775-954014224d71"
      },
      "outputs": [],
      "source": [
        "# Split Data into Training and Testing\n",
        "\n",
        "from sklearn.model_selection import train_test_split\n",
        "\n",
        "xtrain,xtest,ytrain,ytest = train_test_split(flat_data,target,test_size=0.3, random_state=1)"
      ]
    },
    {
      "cell_type": "code",
      "execution_count": null,
      "metadata": {
        "colab": {
          "base_uri": "https://localhost:8080/",
          "height": 134
        },
        "id": "AV_X9IgJwdMV",
        "outputId": "46034b1f-2f35-4247-e0b2-430bbf14b5b2"
      },
      "outputs": [],
      "source": [
        "from sklearn.model_selection import GridSearchCV\n",
        "from sklearn.svm import SVC\n",
        "\n",
        "param_grid = [\n",
        "    {\"C\": [1, 10, 100, 1000], \"kernel\": ['linear']},\n",
        "    {\"C\": [1, 10, 100, 1000], \"gamma\": [0.01, 0.001, 0.0001], \"kernel\": ['rbf']},\n",
        "    {\"degree\": [2, 3, 4], \"coef0\": [0.0, 1.0, 2.0], \"kernel\": ['poly']}\n",
        "]\n",
        "\n",
        "\n",
        "svc = SVC(probability=True)\n",
        "clf = GridSearchCV(svc,param_grid)\n",
        "clf.fit(xtrain,ytrain)"
      ]
    },
    {
      "cell_type": "code",
      "execution_count": null,
      "metadata": {
        "colab": {
          "base_uri": "https://localhost:8080/"
        },
        "id": "nmcwacCT303u",
        "outputId": "15bee623-f168-4992-c53d-f6ca1bc97923"
      },
      "outputs": [],
      "source": [
        "ypred = clf.predict(xtest)"
      ]
    },
    {
      "cell_type": "code",
      "execution_count": null,
      "metadata": {
        "colab": {
          "base_uri": "https://localhost:8080/"
        },
        "id": "1jqE0Gi84So3",
        "outputId": "b067aaf9-aa23-408b-81a5-86114f8e97ec"
      },
      "outputs": [],
      "source": [
        "ypred"
      ]
    },
    {
      "cell_type": "code",
      "execution_count": null,
      "metadata": {
        "colab": {
          "base_uri": "https://localhost:8080/"
        },
        "id": "vUyeCxcO4TzP",
        "outputId": "42905ed6-8a81-474c-901b-2857194efe45"
      },
      "outputs": [],
      "source": [
        "ytest"
      ]
    },
    {
      "cell_type": "code",
      "execution_count": null,
      "metadata": {
        "colab": {
          "base_uri": "https://localhost:8080/"
        },
        "id": "SEWflDZW4W4s",
        "outputId": "752ab09e-6632-418d-938c-0c38bd18cf01"
      },
      "outputs": [],
      "source": [
        "from sklearn.metrics import accuracy_score, confusion_matrix\n",
        "\n",
        "accuracy_score(ypred, ytest)"
      ]
    },
    {
      "cell_type": "code",
      "execution_count": null,
      "metadata": {
        "colab": {
          "base_uri": "https://localhost:8080/"
        },
        "id": "Ysd6zIS14jNh",
        "outputId": "12e2a799-6d8f-4987-c18f-9fe653bb67d8"
      },
      "outputs": [],
      "source": [
        "confusion_matrix(ypred,ytest)"
      ]
    },
    {
      "cell_type": "code",
      "execution_count": null,
      "metadata": {
        "colab": {
          "base_uri": "https://localhost:8080/"
        },
        "id": "HSUVlivK4nZg",
        "outputId": "b91217ec-5278-4b9e-e43f-534970d3f6e0"
      },
      "outputs": [],
      "source": [
        "import pickle\n",
        "\n",
        "pickle.dump(clf,open('img_model.p','wb'))"
      ]
    },
    {
      "cell_type": "code",
      "execution_count": null,
      "metadata": {
        "colab": {
          "base_uri": "https://localhost:8080/"
        },
        "id": "JB4nyTlx8P35",
        "outputId": "8b09c79a-2cb2-4316-8822-a9a43731e8f5"
      },
      "outputs": [],
      "source": [
        "model = pickle.load(open('img_model.p','rb'))"
      ]
    }
  ],
  "metadata": {
    "accelerator": "GPU",
    "colab": {
      "gpuType": "T4",
      "provenance": []
    },
    "kernelspec": {
      "display_name": "Python 3",
      "name": "python3"
    },
    "language_info": {
      "codemirror_mode": {
        "name": "ipython",
        "version": 3
      },
      "file_extension": ".py",
      "mimetype": "text/x-python",
      "name": "python",
      "nbconvert_exporter": "python",
      "pygments_lexer": "ipython3",
      "version": "3.11.5"
    }
  },
  "nbformat": 4,
  "nbformat_minor": 0
}
