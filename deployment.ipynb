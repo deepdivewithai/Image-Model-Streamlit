{
 "cells": [
  {
   "cell_type": "code",
   "execution_count": 5,
   "metadata": {},
   "outputs": [],
   "source": [
    "import cv2\n",
    "import numpy as np\n",
    "import matplotlib.pyplot as plt\n",
    "import seaborn as sns\n",
    "import pickle"
   ]
  },
  {
   "cell_type": "code",
   "execution_count": 6,
   "metadata": {},
   "outputs": [],
   "source": [
    "model = pickle.load(open('img_model4.p','rb'))\n",
    "CATEGORIES = ['sunflower', 'rugby ball leather', 'ice cream cone']"
   ]
  },
  {
   "cell_type": "code",
   "execution_count": 7,
   "metadata": {},
   "outputs": [
    {
     "name": "stdout",
     "output_type": "stream",
     "text": [
      "Overwriting app.py\n"
     ]
    }
   ],
   "source": [
    "%%writefile app.py\n",
    "import streamlit as st\n",
    "import numpy as np\n",
    "import cv2\n",
    "from PIL import Image\n",
    "import pickle\n",
    "\n",
    "st.title(\"Image Classifier\")\n",
    "st.text(\"Upload the Image\")\n",
    "\n",
    "model = pickle.load(open(\"img_model4.p\", \"rb\"))\n",
    "\n",
    "uploaded_file = st.file_uploader(\"Choose an Image: \", type=\"jpg\")\n",
    "\n",
    "if uploaded_file is not None:\n",
    "    img = Image.open(uploaded_file)\n",
    "    st.image(img, caption=\"uploaded_image\")\n",
    "\n",
    "if st.button(\"PREDICT\"):\n",
    "    CATEGORIES = ['Sunflower', 'rugby ball leather', 'ice cream cone']\n",
    "    st.write(\"Result...\")\n",
    "    flat_data = []\n",
    "    \n",
    "    # Convert PIL image to NumPy array\n",
    "    img = np.array(img)\n",
    "    \n",
    "    # Resize using OpenCV\n",
    "    img_resized = cv2.resize(img, (150, 150))\n",
    "\n",
    "    flat_data.append(img_resized.flatten())\n",
    "    flat_data = np.array(flat_data)\n",
    "\n",
    "    y_out = model.predict(flat_data)\n",
    "    st.title(f\"Predicted Output: {CATEGORIES[y_out[0]]}\")"
   ]
  },
  {
   "cell_type": "code",
   "execution_count": 11,
   "metadata": {},
   "outputs": [],
   "source": [
    "!start cmd /c \"streamlit run app.py\""
   ]
  },
  {
   "cell_type": "code",
   "execution_count": null,
   "metadata": {},
   "outputs": [],
   "source": []
  }
 ],
 "metadata": {
  "kernelspec": {
   "display_name": "Python 3",
   "language": "python",
   "name": "python3"
  },
  "language_info": {
   "codemirror_mode": {
    "name": "ipython",
    "version": 3
   },
   "file_extension": ".py",
   "mimetype": "text/x-python",
   "name": "python",
   "nbconvert_exporter": "python",
   "pygments_lexer": "ipython3",
   "version": "3.11.5"
  }
 },
 "nbformat": 4,
 "nbformat_minor": 2
}
